{
 "cells": [
  {
   "cell_type": "code",
   "execution_count": 2,
   "id": "66504645",
   "metadata": {},
   "outputs": [],
   "source": [
    "import json\n",
    "import requests\n",
    "import pandas as pd\n",
    "from datetime import datetime\n",
    "from espn_api.football import League"
   ]
  },
  {
   "cell_type": "code",
   "execution_count": 2,
   "id": "5aecf1fc",
   "metadata": {},
   "outputs": [],
   "source": [
    "LEAGUE_ID = 48899928\n",
    "YEAR = datetime.today().year\n",
    "league = League(league_id=LEAGUE_ID, year=YEAR)"
   ]
  },
  {
   "cell_type": "markdown",
   "id": "2d78db85",
   "metadata": {},
   "source": [
    "# Weekly Matchup"
   ]
  },
  {
   "cell_type": "code",
   "execution_count": 3,
   "id": "980c6dd7",
   "metadata": {},
   "outputs": [],
   "source": [
    "box_scores = league.box_scores(week=league.currentMatchupPeriod)\n",
    "box_score = box_scores[0]"
   ]
  },
  {
   "cell_type": "code",
   "execution_count": 4,
   "id": "a96822cc",
   "metadata": {},
   "outputs": [],
   "source": [
    "def get_team_lineup(lineup_list: list) -> list:\n",
    "    \"\"\"\n",
    "    Gathers certain fields from either\n",
    "    `BoxScore.home_lineup` or `BoxScore.away_lineup`\n",
    "    and returns a single dictionary.\n",
    "\n",
    "    Arguments:\n",
    "        lineup_list (list): List of `espn_api.football.box_player.BoxPlayer`.\n",
    "\n",
    "    Returns:\n",
    "        list: List of dictionaries of players and their attributes.\n",
    "\n",
    "    \"\"\"\n",
    "\n",
    "    team = []\n",
    "    for player in get_team_lineup:\n",
    "        data = {}\n",
    "        data[\"injuryStatus\"] = (\n",
    "            \"-\" if player.injuryStatus == \"ACTIVE\" else player.injuryStatus\n",
    "        )\n",
    "        data[\"name\"] = player.name\n",
    "        data[\"playerId\"] = player.playerId\n",
    "        data[\"points\"] = player.points\n",
    "        data[\"projected_points\"] = player.projected_points\n",
    "        data[\"position\"] = (\n",
    "            \"FLEX\" if player.slot_position == \"RB/WR/TE\" else player.slot_position\n",
    "        )\n",
    "        team.append(data)\n",
    "    return team"
   ]
  },
  {
   "cell_type": "code",
   "execution_count": 5,
   "id": "fb492c4f",
   "metadata": {},
   "outputs": [
    {
     "data": {
      "text/plain": [
       "'https://i.imgur.com/lS8cwSg.jpg'"
      ]
     },
     "execution_count": 5,
     "metadata": {},
     "output_type": "execute_result"
    }
   ],
   "source": [
    "box_score.away_team.logo_url"
   ]
  },
  {
   "cell_type": "code",
   "execution_count": 6,
   "id": "ba4b63f1",
   "metadata": {},
   "outputs": [
    {
     "data": {
      "text/plain": [
       "0"
      ]
     },
     "execution_count": 6,
     "metadata": {},
     "output_type": "execute_result"
    }
   ],
   "source": [
    "box_score.home_team.wins"
   ]
  },
  {
   "cell_type": "code",
   "execution_count": 7,
   "id": "f1319ad5",
   "metadata": {},
   "outputs": [
    {
     "ename": "TypeError",
     "evalue": "'function' object is not iterable",
     "output_type": "error",
     "traceback": [
      "\u001b[0;31m---------------------------------------------------------------------------\u001b[0m",
      "\u001b[0;31mTypeError\u001b[0m                                 Traceback (most recent call last)",
      "Input \u001b[0;32mIn [7]\u001b[0m, in \u001b[0;36m<cell line: 2>\u001b[0;34m()\u001b[0m\n\u001b[1;32m      2\u001b[0m \u001b[38;5;28;01mfor\u001b[39;00m matchup \u001b[38;5;129;01min\u001b[39;00m box_scores:\n\u001b[1;32m      3\u001b[0m     data \u001b[38;5;241m=\u001b[39m {}\n\u001b[0;32m----> 5\u001b[0m     away_team \u001b[38;5;241m=\u001b[39m \u001b[43mget_team_lineup\u001b[49m\u001b[43m(\u001b[49m\u001b[43mbox_score\u001b[49m\u001b[38;5;241;43m.\u001b[39;49m\u001b[43maway_lineup\u001b[49m\u001b[43m)\u001b[49m\n\u001b[1;32m      6\u001b[0m     data[\u001b[38;5;124m\"\u001b[39m\u001b[38;5;124maway_team\u001b[39m\u001b[38;5;124m\"\u001b[39m] \u001b[38;5;241m=\u001b[39m away_team\n\u001b[1;32m      7\u001b[0m     data[\u001b[38;5;124m\"\u001b[39m\u001b[38;5;124maway_score\u001b[39m\u001b[38;5;124m\"\u001b[39m] \u001b[38;5;241m=\u001b[39m box_score\u001b[38;5;241m.\u001b[39maway_score\n",
      "Input \u001b[0;32mIn [4]\u001b[0m, in \u001b[0;36mget_team_lineup\u001b[0;34m(lineup_list)\u001b[0m\n\u001b[1;32m      2\u001b[0m \u001b[38;5;124;03m\"\"\"\u001b[39;00m\n\u001b[1;32m      3\u001b[0m \u001b[38;5;124;03mGathers certain fields from either\u001b[39;00m\n\u001b[1;32m      4\u001b[0m \u001b[38;5;124;03m`BoxScore.home_lineup` or `BoxScore.away_lineup`\u001b[39;00m\n\u001b[0;32m   (...)\u001b[0m\n\u001b[1;32m     12\u001b[0m \n\u001b[1;32m     13\u001b[0m \u001b[38;5;124;03m\"\"\"\u001b[39;00m\n\u001b[1;32m     15\u001b[0m team \u001b[38;5;241m=\u001b[39m []\n\u001b[0;32m---> 16\u001b[0m \u001b[38;5;28;01mfor\u001b[39;00m player \u001b[38;5;129;01min\u001b[39;00m get_team_lineup:\n\u001b[1;32m     17\u001b[0m     data \u001b[38;5;241m=\u001b[39m {}\n\u001b[1;32m     18\u001b[0m     data[\u001b[38;5;124m\"\u001b[39m\u001b[38;5;124minjuryStatus\u001b[39m\u001b[38;5;124m\"\u001b[39m] \u001b[38;5;241m=\u001b[39m (\n\u001b[1;32m     19\u001b[0m         \u001b[38;5;124m\"\u001b[39m\u001b[38;5;124m-\u001b[39m\u001b[38;5;124m\"\u001b[39m \u001b[38;5;28;01mif\u001b[39;00m player\u001b[38;5;241m.\u001b[39minjuryStatus \u001b[38;5;241m==\u001b[39m \u001b[38;5;124m\"\u001b[39m\u001b[38;5;124mACTIVE\u001b[39m\u001b[38;5;124m\"\u001b[39m \u001b[38;5;28;01melse\u001b[39;00m player\u001b[38;5;241m.\u001b[39minjuryStatus\n\u001b[1;32m     20\u001b[0m     )\n",
      "\u001b[0;31mTypeError\u001b[0m: 'function' object is not iterable"
     ]
    }
   ],
   "source": [
    "matchups = []\n",
    "for matchup in box_scores:\n",
    "    data = {}\n",
    "\n",
    "    away_team = get_team_lineup(box_score.away_lineup)\n",
    "    data[\"away_team\"] = away_team\n",
    "    data[\"away_score\"] = box_score.away_score\n",
    "    data[\"away_projected\"] = box_score.away_projected\n",
    "\n",
    "    home_team = get_team_lineup(box_score.home_lineup)\n",
    "    data[\"home_team\"] = home_team\n",
    "    data[\"home_score\"] = box_score.home_score\n",
    "    data[\"home_projected\"] = box_score.home_projected\n",
    "\n",
    "    data[\"isPlayoffGame\"] = str(box_score.matchup_type).lower() == \"none\"\n",
    "\n",
    "    team, score = league.least_scored_week()\n",
    "    data[\"lowest_scoring_team\"] = team.team_name\n",
    "    data[\"lowest_scoring_team_score\"] = score\n",
    "\n",
    "    team, score = league.top_scored_week()\n",
    "    data[\"highest_scoring_team\"] = team.team_name\n",
    "    data[\"highest_scoring_team_score\"] = score\n",
    "\n",
    "    matchups.append(data)"
   ]
  },
  {
   "cell_type": "markdown",
   "id": "5e4c039a",
   "metadata": {},
   "source": [
    "# Top Free Agents"
   ]
  },
  {
   "cell_type": "code",
   "execution_count": 8,
   "id": "8e50b6fa",
   "metadata": {},
   "outputs": [],
   "source": [
    "available_free_agents = league.free_agents()"
   ]
  },
  {
   "cell_type": "code",
   "execution_count": 9,
   "id": "6827216a",
   "metadata": {
    "scrolled": true
   },
   "outputs": [],
   "source": [
    "free_agents = []\n",
    "for player in available_free_agents:\n",
    "    free_agent = {}\n",
    "    free_agent[\"name\"] = player.name\n",
    "    free_agent[\"points\"] = player.points\n",
    "    free_agent[\"projectedPoints\"] = player.projected_points\n",
    "    free_agent[\"injuryStatus\"] = (\n",
    "        \"-\"\n",
    "        if player.injuryStatus == \"ACTIVE\" or player.injuryStatus == []\n",
    "        else player.injuryStatus\n",
    "    )\n",
    "    free_agent[\"position\"] = player.position\n",
    "    free_agent[\"team\"] = player.proTeam\n",
    "    free_agent[\"opponent\"] = player.pro_opponent\n",
    "    free_agents.append(free_agent)\n",
    "\n",
    "free_agents = pd.DataFrame(free_agents)\n",
    "top_projected_free_agents = (\n",
    "    free_agents.groupby([\"position\"])\n",
    "    .apply(lambda x: x.sort_values([\"projectedPoints\"], ascending=False))\n",
    "    .reset_index(drop=True)\n",
    ")\n",
    "top_five_projected_free_agents = top_projected_free_agents.groupby(\"position\").head(5)\n",
    "\n",
    "top_scoring_free_agents = (\n",
    "    free_agents.groupby([\"position\"])\n",
    "    .apply(lambda x: x.sort_values([\"points\"], ascending=False))\n",
    "    .reset_index(drop=True)\n",
    ")\n",
    "top_five_scoring_free_agents = top_scoring_free_agents.groupby(\"position\").head(5)\n",
    "top_five_projected_free_agents = top_five_projected_free_agents.to_dict(\n",
    "    orient=\"records\"\n",
    ")\n",
    "top_five_scoring_free_agents = top_five_scoring_free_agents.to_dict(orient=\"records\")"
   ]
  },
  {
   "cell_type": "markdown",
   "id": "5236ce85",
   "metadata": {},
   "source": [
    "# Standings"
   ]
  },
  {
   "cell_type": "code",
   "execution_count": 10,
   "id": "17ae829c",
   "metadata": {},
   "outputs": [],
   "source": [
    "standings = []\n",
    "for idx, team in enumerate(league.standings()):\n",
    "    standing = {}\n",
    "    standing[\"standing\"] = team.standing\n",
    "    standing[\"team_name\"] = team.team_name\n",
    "    standing[\"wins\"] = team.wins\n",
    "    standing[\"losses\"] = team.losses\n",
    "    standing[\"ties\"] = team.ties\n",
    "    standing[\"logo_url\"] = team.logo_url\n",
    "    standing[\"playoff_pct\"] = team.playoff_pct\n",
    "    standing[\"points_for\"] = team.points_for\n",
    "    standing[\"points_against\"] = team.points_against\n",
    "    standings.append(standing)\n",
    "\n",
    "standings = pd.DataFrame(standings)\n",
    "standings[\"standing\"] = standings[\"standing\"].astype(int)\n",
    "standings.sort_values(by=\"standing\", ascending=True, inplace=True)\n",
    "standings[\"standing\"] = standings[\"standing\"].astype(str)\n",
    "standings = standings.to_dict(orient=\"records\")"
   ]
  },
  {
   "cell_type": "markdown",
   "id": "ccf2d19d",
   "metadata": {},
   "source": [
    "# Power Rankings"
   ]
  },
  {
   "cell_type": "code",
   "execution_count": 11,
   "id": "e4dd9a40",
   "metadata": {},
   "outputs": [],
   "source": [
    "power_rankings = []\n",
    "for score, team in league.power_rankings():\n",
    "    power_ranking = {}\n",
    "    power_ranking[\"power_ranking\"] = score\n",
    "    power_ranking[\"team_name\"] = team.team_name\n",
    "    power_ranking[\"wins\"] = team.wins\n",
    "    power_ranking[\"losses\"] = team.losses\n",
    "    power_ranking[\"ties\"] = team.ties\n",
    "    power_ranking[\"logo_url\"] = team.logo_url\n",
    "    power_ranking[\"playoff_pct\"] = team.playoff_pct\n",
    "    power_ranking[\"points_for\"] = team.points_for\n",
    "    power_ranking[\"points_against\"] = team.points_against\n",
    "    power_rankings.append(power_ranking)\n",
    "\n",
    "power_rankings = pd.DataFrame(power_rankings)\n",
    "power_rankings[\"power_ranking\"] = power_rankings[\"power_ranking\"].astype(float)\n",
    "power_rankings.sort_values(by=\"power_ranking\", ascending=False, inplace=True)\n",
    "power_rankings[\"power_ranking\"] = power_rankings[\"power_ranking\"].astype(str)\n",
    "power_rankings = power_rankings.to_dict(orient=\"records\")"
   ]
  },
  {
   "cell_type": "code",
   "execution_count": null,
   "id": "29cb127d",
   "metadata": {},
   "outputs": [],
   "source": []
  },
  {
   "cell_type": "code",
   "execution_count": 12,
   "id": "abb9d5be",
   "metadata": {},
   "outputs": [],
   "source": [
    "import pandas as pd"
   ]
  },
  {
   "cell_type": "code",
   "execution_count": 13,
   "id": "362acbef",
   "metadata": {},
   "outputs": [],
   "source": [
    "injury_statuses = [\n",
    "    \"ACTIVE\",\n",
    "    \"NORMAL\",\n",
    "    \"QUESTIONABLE\",\n",
    "    \"OUT\",\n",
    "    []\n",
    "]"
   ]
  },
  {
   "cell_type": "code",
   "execution_count": 14,
   "id": "b0216c6b",
   "metadata": {},
   "outputs": [
    {
     "name": "stdout",
     "output_type": "stream",
     "text": [
      "new is:  -\n",
      "new is:  -\n",
      "new is:  Q\n",
      "new is:  O\n"
     ]
    }
   ],
   "source": [
    "for is_ in injury_statuses:\n",
    "    if is_ in ['ACTIVE', 'NORMAL', []]:\n",
    "        print(\"new is: \", \"-\")\n",
    "    elif is_ == \"QUESTIONABLE\":\n",
    "        print(\"new is: \", \"Q\")\n",
    "    else:\n",
    "        print(\"new is: \", \"O\")"
   ]
  },
  {
   "cell_type": "markdown",
   "id": "721a38a6",
   "metadata": {},
   "source": [
    "# ESPN v3\n",
    "\n",
    "statSourceId"
   ]
  },
  {
   "cell_type": "code",
   "execution_count": 3,
   "id": "36c5feb2",
   "metadata": {},
   "outputs": [],
   "source": [
    "base_url = 'https://fantasy.espn.com/apis/v3/games/ffl/seasons/2022/segments/0/leagues/1150587'\n",
    "roster_url = base_url + '?view=mRoster'"
   ]
  },
  {
   "cell_type": "code",
   "execution_count": 6,
   "id": "3372c72d",
   "metadata": {},
   "outputs": [
    {
     "data": {
      "text/plain": [
       "200"
      ]
     },
     "execution_count": 6,
     "metadata": {},
     "output_type": "execute_result"
    }
   ],
   "source": [
    "response = requests.get(roster_url)\n",
    "if response.status_code == 200:\n",
    "    data = response.json()\n",
    "response.status_code"
   ]
  },
  {
   "cell_type": "code",
   "execution_count": 7,
   "id": "b2cef46a",
   "metadata": {},
   "outputs": [
    {
     "data": {
      "text/plain": [
       "dict_keys(['draftDetail', 'gameId', 'id', 'scoringPeriodId', 'seasonId', 'segmentId', 'status', 'teams'])"
      ]
     },
     "execution_count": 7,
     "metadata": {},
     "output_type": "execute_result"
    }
   ],
   "source": [
    "data.keys()"
   ]
  },
  {
   "cell_type": "code",
   "execution_count": 16,
   "id": "f7ac9c93",
   "metadata": {},
   "outputs": [],
   "source": [
    "team = data['teams'][0]"
   ]
  },
  {
   "cell_type": "code",
   "execution_count": 17,
   "id": "c5e327fa",
   "metadata": {},
   "outputs": [
    {
     "data": {
      "text/plain": [
       "dict_keys(['id', 'roster'])"
      ]
     },
     "execution_count": 17,
     "metadata": {},
     "output_type": "execute_result"
    }
   ],
   "source": [
    "team.keys()"
   ]
  },
  {
   "cell_type": "code",
   "execution_count": 19,
   "id": "9b703fd3",
   "metadata": {},
   "outputs": [
    {
     "data": {
      "text/plain": [
       "dict_keys(['appliedStatTotal', 'entries', 'tradeReservedEntries'])"
      ]
     },
     "execution_count": 19,
     "metadata": {},
     "output_type": "execute_result"
    }
   ],
   "source": [
    "team['roster'].keys()"
   ]
  },
  {
   "cell_type": "code",
   "execution_count": 23,
   "id": "45b12d8f",
   "metadata": {},
   "outputs": [
    {
     "data": {
      "text/plain": [
       "dict_keys(['acquisitionDate', 'acquisitionType', 'injuryStatus', 'lineupSlotId', 'pendingTransactionIds', 'playerId', 'playerPoolEntry', 'status'])"
      ]
     },
     "execution_count": 23,
     "metadata": {},
     "output_type": "execute_result"
    }
   ],
   "source": [
    "team['roster']['entries'][0].keys()"
   ]
  },
  {
   "cell_type": "code",
   "execution_count": 24,
   "id": "49127805",
   "metadata": {},
   "outputs": [
    {
     "data": {
      "text/plain": [
       "'NORMAL'"
      ]
     },
     "execution_count": 24,
     "metadata": {},
     "output_type": "execute_result"
    }
   ],
   "source": [
    "team['roster']['entries'][0]['injuryStatus']"
   ]
  },
  {
   "cell_type": "code",
   "execution_count": 25,
   "id": "5fb337a4",
   "metadata": {},
   "outputs": [
    {
     "data": {
      "text/plain": [
       "2"
      ]
     },
     "execution_count": 25,
     "metadata": {},
     "output_type": "execute_result"
    }
   ],
   "source": [
    "team['roster']['entries'][0]['lineupSlotId']"
   ]
  },
  {
   "cell_type": "code",
   "execution_count": 27,
   "id": "13c2c37f",
   "metadata": {},
   "outputs": [
    {
     "data": {
      "text/plain": [
       "dict_keys(['appliedStatTotal', 'id', 'keeperValue', 'keeperValueFuture', 'lineupLocked', 'onTeamId', 'player', 'ratings', 'rosterLocked', 'status', 'tradeLocked'])"
      ]
     },
     "execution_count": 27,
     "metadata": {},
     "output_type": "execute_result"
    }
   ],
   "source": [
    "team['roster']['entries'][0]['playerPoolEntry'].keys()"
   ]
  },
  {
   "cell_type": "code",
   "execution_count": 35,
   "id": "b92dd12d",
   "metadata": {},
   "outputs": [
    {
     "data": {
      "text/plain": [
       "dict_keys(['active', 'defaultPositionId', 'draftRanksByRankType', 'droppable', 'eligibleSlots', 'firstName', 'fullName', 'id', 'injured', 'injuryStatus', 'lastName', 'lastNewsDate', 'lastVideoDate', 'ownership', 'proTeamId', 'rankings', 'seasonOutlook', 'stats', 'universeId'])"
      ]
     },
     "execution_count": 35,
     "metadata": {},
     "output_type": "execute_result"
    }
   ],
   "source": [
    "team['roster']['entries'][0]['playerPoolEntry']['player'].keys()"
   ]
  },
  {
   "cell_type": "code",
   "execution_count": 50,
   "id": "fa534c1a",
   "metadata": {},
   "outputs": [
    {
     "data": {
      "text/plain": [
       "dict_keys(['appliedAverage', 'appliedStats', 'appliedTotal', 'externalId', 'id', 'proTeamId', 'scoringPeriodId', 'seasonId', 'statSourceId', 'statSplitTypeId', 'stats'])"
      ]
     },
     "execution_count": 50,
     "metadata": {},
     "output_type": "execute_result"
    }
   ],
   "source": [
    "team['roster']['entries'][0]['playerPoolEntry']['player']['stats'][0].keys()"
   ]
  },
  {
   "cell_type": "code",
   "execution_count": 54,
   "id": "8b1f8cbf",
   "metadata": {},
   "outputs": [],
   "source": [
    "stats = team['roster']['entries'][0]['playerPoolEntry']['player']['stats']"
   ]
  },
  {
   "cell_type": "code",
   "execution_count": 81,
   "id": "2ce1e952",
   "metadata": {},
   "outputs": [
    {
     "name": "stdout",
     "output_type": "stream",
     "text": [
      "idx: 0 | 0 | 2021 | 0\n",
      "idx: 1 | 0 | 2022 | 0\n",
      "idx: 2 | 1 | 2021 | 0\n",
      "idx: 3 | 1 | 2022 | 0\n",
      "idx: 4 | 1 | 2022 | 1\n"
     ]
    }
   ],
   "source": [
    "for idx, stat in enumerate(stats):\n",
    "    \n",
    "    print('idx: {} | {} | {} | {}'.format(idx, stat['statSourceId'], stat['seasonId'], stat['scoringPeriodId']))"
   ]
  },
  {
   "cell_type": "code",
   "execution_count": 89,
   "id": "c9448a67",
   "metadata": {},
   "outputs": [
    {
     "ename": "ValueError",
     "evalue": "dictionary update sequence element #0 has length 10; 2 is required",
     "output_type": "error",
     "traceback": [
      "\u001b[0;31m---------------------------------------------------------------------------\u001b[0m",
      "\u001b[0;31mValueError\u001b[0m                                Traceback (most recent call last)",
      "Input \u001b[0;32mIn [89]\u001b[0m, in \u001b[0;36m<cell line: 1>\u001b[0;34m()\u001b[0m\n\u001b[0;32m----> 1\u001b[0m newDict \u001b[38;5;241m=\u001b[39m \u001b[38;5;28;43mdict\u001b[39;49m\u001b[43m(\u001b[49m\u001b[38;5;28;43mfilter\u001b[39;49m\u001b[43m(\u001b[49m\u001b[38;5;28;43;01mlambda\u001b[39;49;00m\u001b[43m \u001b[49m\u001b[43melem\u001b[49m\u001b[43m:\u001b[49m\u001b[43m \u001b[49m\u001b[43m(\u001b[49m\u001b[43melem\u001b[49m\u001b[43m[\u001b[49m\u001b[38;5;124;43m'\u001b[39;49m\u001b[38;5;124;43mseasonId\u001b[39;49m\u001b[38;5;124;43m'\u001b[39;49m\u001b[43m]\u001b[49m\u001b[43m \u001b[49m\u001b[38;5;241;43m==\u001b[39;49m\u001b[43m \u001b[49m\u001b[38;5;241;43m2022\u001b[39;49m\u001b[43m \u001b[49m\u001b[38;5;129;43;01mand\u001b[39;49;00m\u001b[43m \u001b[49m\u001b[43melem\u001b[49m\u001b[43m[\u001b[49m\u001b[38;5;124;43m'\u001b[39;49m\u001b[38;5;124;43mscoringPeriodId\u001b[39;49m\u001b[38;5;124;43m'\u001b[39;49m\u001b[43m]\u001b[49m\u001b[43m \u001b[49m\u001b[38;5;241;43m==\u001b[39;49m\u001b[43m \u001b[49m\u001b[38;5;241;43m1\u001b[39;49m\u001b[43m)\u001b[49m\u001b[43m,\u001b[49m\u001b[43m \u001b[49m\u001b[43mstats\u001b[49m\u001b[43m)\u001b[49m\u001b[43m)\u001b[49m\n",
      "\u001b[0;31mValueError\u001b[0m: dictionary update sequence element #0 has length 10; 2 is required"
     ]
    }
   ],
   "source": [
    "newDict = dict(filter(lambda elem: (elem['seasonId'] == 2022 and elem['scoringPeriodId'] == 1), stats))"
   ]
  },
  {
   "cell_type": "code",
   "execution_count": 110,
   "id": "a8ed91ef",
   "metadata": {},
   "outputs": [],
   "source": [
    "for stat in stats:\n",
    "    if str(stat['scoringPeriodId']) == '1' and str(stat['seasonId']) == '2022':\n",
    "        if str(stat['statSourceId']) == '0':\n",
    "            points = stat\n",
    "        elif str(stat['statSourceId'] == '1'):\n",
    "            projected_points = stat"
   ]
  },
  {
   "cell_type": "code",
   "execution_count": 112,
   "id": "dfa7d875",
   "metadata": {},
   "outputs": [
    {
     "data": {
      "text/plain": [
       "{'appliedStats': {'53': 0.89646844,\n",
       "  '72': -0.169704152,\n",
       "  '24': 9.873019314,\n",
       "  '25': 4.678253382,\n",
       "  '26': 0.0482,\n",
       "  '42': 1.374861863,\n",
       "  '43': 0.370606632,\n",
       "  '44': 0.006269136,\n",
       "  '63': 0.004794},\n",
       " 'appliedTotal': 17.082768615000003,\n",
       " 'externalId': '20221',\n",
       " 'id': '1120221',\n",
       " 'proTeamId': 0,\n",
       " 'scoringPeriodId': 1,\n",
       " 'seasonId': 2022,\n",
       " 'statSourceId': 1,\n",
       " 'statSplitTypeId': 1,\n",
       " 'stats': {'23': 23.30545644,\n",
       "  '24': 98.73019314,\n",
       "  '25': 0.779708897,\n",
       "  '26': 0.0241,\n",
       "  '27': 19.0,\n",
       "  '28': 9.0,\n",
       "  '29': 4.0,\n",
       "  '30': 3.0,\n",
       "  '31': 1.0,\n",
       "  '33': 4.0,\n",
       "  '34': 2.0,\n",
       "  '35': 0.052,\n",
       "  '36': 0.0364,\n",
       "  '37': 0.427,\n",
       "  '38': 0.0146,\n",
       "  '39': 4.236355268,\n",
       "  '40': 98.73019314,\n",
       "  '42': 13.74861863,\n",
       "  '43': 0.061767772,\n",
       "  '44': 0.003134568,\n",
       "  '45': 0.003039834,\n",
       "  '46': 0.001986532,\n",
       "  '47': 2.0,\n",
       "  '48': 1.0,\n",
       "  '53': 1.79293688,\n",
       "  '56': 0.005182992,\n",
       "  '57': 0.00016,\n",
       "  '58': 2.322907929,\n",
       "  '60': 7.66821118,\n",
       "  '61': 13.74861863,\n",
       "  '62': 0.027281348,\n",
       "  '63': 0.000799,\n",
       "  '66': 0.169,\n",
       "  '67': 0.01297571,\n",
       "  '68': 0.181640227,\n",
       "  '70': 0.0776,\n",
       "  '71': 0.007266397,\n",
       "  '72': 0.084852076,\n",
       "  '73': 0.084852076,\n",
       "  '210': 1.0}}"
      ]
     },
     "execution_count": 112,
     "metadata": {},
     "output_type": "execute_result"
    }
   ],
   "source": [
    "projected_points"
   ]
  },
  {
   "cell_type": "code",
   "execution_count": 79,
   "id": "a9cbc392",
   "metadata": {},
   "outputs": [
    {
     "name": "stdout",
     "output_type": "stream",
     "text": [
      "appliedAverage\n",
      "appliedStats\n",
      "appliedTotal\n",
      "externalId\n",
      "id\n",
      "proTeamId\n",
      "scoringPeriodId\n",
      "seasonId\n",
      "statSourceId\n",
      "statSplitTypeId\n",
      "stats\n"
     ]
    }
   ],
   "source": [
    "for l in list(stats[0].keys()):\n",
    "    print(l)"
   ]
  },
  {
   "cell_type": "code",
   "execution_count": 74,
   "id": "c17b04a7",
   "metadata": {},
   "outputs": [
    {
     "data": {
      "text/plain": [
       "['appliedAverage',\n",
       " 'appliedStats',\n",
       " 'appliedTotal',\n",
       " 'externalId',\n",
       " 'id',\n",
       " 'proTeamId',\n",
       " 'scoringPeriodId',\n",
       " 'seasonId',\n",
       " 'statSourceId',\n",
       " 'statSplitTypeId',\n",
       " 'stats']"
      ]
     },
     "execution_count": 74,
     "metadata": {},
     "output_type": "execute_result"
    }
   ],
   "source": [
    "sorted(keys)"
   ]
  },
  {
   "cell_type": "code",
   "execution_count": 77,
   "id": "654f37de",
   "metadata": {},
   "outputs": [
    {
     "data": {
      "text/plain": [
       "{'appliedStats': {'53': 0.89646844,\n",
       "  '72': -0.169704152,\n",
       "  '24': 9.873019314,\n",
       "  '25': 4.678253382,\n",
       "  '26': 0.0482,\n",
       "  '42': 1.374861863,\n",
       "  '43': 0.370606632,\n",
       "  '44': 0.006269136,\n",
       "  '63': 0.004794},\n",
       " 'appliedTotal': 17.082768615000003,\n",
       " 'externalId': '20221',\n",
       " 'id': '1120221',\n",
       " 'proTeamId': 0,\n",
       " 'scoringPeriodId': 1,\n",
       " 'seasonId': 2022,\n",
       " 'statSourceId': 1,\n",
       " 'statSplitTypeId': 1,\n",
       " 'stats': {'23': 23.30545644,\n",
       "  '24': 98.73019314,\n",
       "  '25': 0.779708897,\n",
       "  '26': 0.0241,\n",
       "  '27': 19.0,\n",
       "  '28': 9.0,\n",
       "  '29': 4.0,\n",
       "  '30': 3.0,\n",
       "  '31': 1.0,\n",
       "  '33': 4.0,\n",
       "  '34': 2.0,\n",
       "  '35': 0.052,\n",
       "  '36': 0.0364,\n",
       "  '37': 0.427,\n",
       "  '38': 0.0146,\n",
       "  '39': 4.236355268,\n",
       "  '40': 98.73019314,\n",
       "  '42': 13.74861863,\n",
       "  '43': 0.061767772,\n",
       "  '44': 0.003134568,\n",
       "  '45': 0.003039834,\n",
       "  '46': 0.001986532,\n",
       "  '47': 2.0,\n",
       "  '48': 1.0,\n",
       "  '53': 1.79293688,\n",
       "  '56': 0.005182992,\n",
       "  '57': 0.00016,\n",
       "  '58': 2.322907929,\n",
       "  '60': 7.66821118,\n",
       "  '61': 13.74861863,\n",
       "  '62': 0.027281348,\n",
       "  '63': 0.000799,\n",
       "  '66': 0.169,\n",
       "  '67': 0.01297571,\n",
       "  '68': 0.181640227,\n",
       "  '70': 0.0776,\n",
       "  '71': 0.007266397,\n",
       "  '72': 0.084852076,\n",
       "  '73': 0.084852076,\n",
       "  '210': 1.0}}"
      ]
     },
     "execution_count": 77,
     "metadata": {},
     "output_type": "execute_result"
    }
   ],
   "source": [
    "stats[4]"
   ]
  },
  {
   "cell_type": "code",
   "execution_count": null,
   "id": "ff925d7a",
   "metadata": {},
   "outputs": [],
   "source": []
  }
 ],
 "metadata": {
  "kernelspec": {
   "display_name": "Python 3 (ipykernel)",
   "language": "python",
   "name": "python3"
  },
  "language_info": {
   "codemirror_mode": {
    "name": "ipython",
    "version": 3
   },
   "file_extension": ".py",
   "mimetype": "text/x-python",
   "name": "python",
   "nbconvert_exporter": "python",
   "pygments_lexer": "ipython3",
   "version": "3.10.6"
  }
 },
 "nbformat": 4,
 "nbformat_minor": 5
}
