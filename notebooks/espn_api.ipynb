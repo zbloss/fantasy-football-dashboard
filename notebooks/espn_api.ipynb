{
 "cells": [
  {
   "cell_type": "code",
   "execution_count": 1,
   "id": "66504645",
   "metadata": {},
   "outputs": [],
   "source": [
    "import pandas as pd\n",
    "from datetime import datetime\n",
    "from espn_api.football import League"
   ]
  },
  {
   "cell_type": "code",
   "execution_count": 2,
   "id": "5aecf1fc",
   "metadata": {},
   "outputs": [],
   "source": [
    "LEAGUE_ID = 48899928\n",
    "YEAR = datetime.today().year\n",
    "league = League(league_id=LEAGUE_ID, year=YEAR)"
   ]
  },
  {
   "cell_type": "markdown",
   "id": "2d78db85",
   "metadata": {},
   "source": [
    "# Weekly Matchup"
   ]
  },
  {
   "cell_type": "code",
   "execution_count": 3,
   "id": "980c6dd7",
   "metadata": {},
   "outputs": [],
   "source": [
    "box_scores = league.box_scores(week=league.currentMatchupPeriod)\n",
    "box_score = box_scores[0]"
   ]
  },
  {
   "cell_type": "code",
   "execution_count": 4,
   "id": "a96822cc",
   "metadata": {},
   "outputs": [],
   "source": [
    "def get_team_lineup(lineup_list: list) -> list:\n",
    "    \"\"\"\n",
    "    Gathers certain fields from either\n",
    "    `BoxScore.home_lineup` or `BoxScore.away_lineup`\n",
    "    and returns a single dictionary.\n",
    "\n",
    "    Arguments:\n",
    "        lineup_list (list): List of `espn_api.football.box_player.BoxPlayer`.\n",
    "\n",
    "    Returns:\n",
    "        list: List of dictionaries of players and their attributes.\n",
    "\n",
    "    \"\"\"\n",
    "\n",
    "    team = []\n",
    "    for player in get_team_lineup:\n",
    "        data = {}\n",
    "        data[\"injuryStatus\"] = (\n",
    "            \"-\" if player.injuryStatus == \"ACTIVE\" else player.injuryStatus\n",
    "        )\n",
    "        data[\"name\"] = player.name\n",
    "        data[\"playerId\"] = player.playerId\n",
    "        data[\"points\"] = player.points\n",
    "        data[\"projected_points\"] = player.projected_points\n",
    "        data[\"position\"] = (\n",
    "            \"FLEX\" if player.slot_position == \"RB/WR/TE\" else player.slot_position\n",
    "        )\n",
    "        team.append(data)\n",
    "    return team"
   ]
  },
  {
   "cell_type": "code",
   "execution_count": 5,
   "id": "f1319ad5",
   "metadata": {},
   "outputs": [],
   "source": [
    "matchups = []\n",
    "for matchup in box_scores:\n",
    "    data = {}\n",
    "\n",
    "    away_team = get_team_lineup(box_score.away_lineup)\n",
    "    data[\"away_team\"] = away_team\n",
    "    data[\"away_score\"] = box_score.away_score\n",
    "    data[\"away_projected\"] = box_score.away_projected\n",
    "\n",
    "    home_team = get_team_lineup(box_score.home_lineup)\n",
    "    data[\"home_team\"] = home_team\n",
    "    data[\"home_score\"] = box_score.home_score\n",
    "    data[\"home_projected\"] = box_score.home_projected\n",
    "\n",
    "    data[\"isPlayoffGame\"] = str(box_score.matchup_type).lower() == \"none\"\n",
    "\n",
    "    team, score = league.least_scored_week()\n",
    "    data[\"lowest_scoring_team\"] = team.team_name\n",
    "    data[\"lowest_scoring_team_score\"] = score\n",
    "\n",
    "    team, score = league.top_scored_week()\n",
    "    data[\"highest_scoring_team\"] = team.team_name\n",
    "    data[\"highest_scoring_team_score\"] = score\n",
    "\n",
    "    matchups.append(data)"
   ]
  },
  {
   "cell_type": "markdown",
   "id": "5e4c039a",
   "metadata": {},
   "source": [
    "# Top Free Agents"
   ]
  },
  {
   "cell_type": "code",
   "execution_count": 30,
   "id": "8e50b6fa",
   "metadata": {},
   "outputs": [],
   "source": [
    "available_free_agents = league.free_agents()"
   ]
  },
  {
   "cell_type": "code",
   "execution_count": 31,
   "id": "6827216a",
   "metadata": {
    "scrolled": true
   },
   "outputs": [],
   "source": [
    "free_agents = []\n",
    "for player in available_free_agents:\n",
    "    free_agent = {}\n",
    "    free_agent[\"name\"] = player.name\n",
    "    free_agent[\"points\"] = player.points\n",
    "    free_agent[\"projectedPoints\"] = player.projected_points\n",
    "    free_agent[\"injuryStatus\"] = (\n",
    "        \"-\"\n",
    "        if player.injuryStatus == \"ACTIVE\" or player.injuryStatus == []\n",
    "        else player.injuryStatus\n",
    "    )\n",
    "    free_agent[\"position\"] = player.position\n",
    "    free_agent[\"team\"] = player.proTeam\n",
    "    free_agent[\"opponent\"] = player.pro_opponent\n",
    "    free_agents.append(free_agent)\n",
    "\n",
    "free_agents = pd.DataFrame(free_agents)\n",
    "top_projected_free_agents = (\n",
    "    free_agents.groupby([\"position\"])\n",
    "    .apply(lambda x: x.sort_values([\"projectedPoints\"], ascending=False))\n",
    "    .reset_index(drop=True)\n",
    ")\n",
    "top_five_projected_free_agents = top_projected_free_agents.groupby(\"position\").head(5)\n",
    "\n",
    "top_scoring_free_agents = (\n",
    "    free_agents.groupby([\"position\"])\n",
    "    .apply(lambda x: x.sort_values([\"points\"], ascending=False))\n",
    "    .reset_index(drop=True)\n",
    ")\n",
    "top_five_scoring_free_agents = top_scoring_free_agents.groupby(\"position\").head(5)\n",
    "top_five_projected_free_agents = top_five_projected_free_agents.to_dict(\n",
    "    orient=\"records\"\n",
    ")\n",
    "top_five_scoring_free_agents = top_five_scoring_free_agents.to_dict(orient=\"records\")"
   ]
  },
  {
   "cell_type": "markdown",
   "id": "5236ce85",
   "metadata": {},
   "source": [
    "# Standings"
   ]
  },
  {
   "cell_type": "code",
   "execution_count": 26,
   "id": "17ae829c",
   "metadata": {},
   "outputs": [],
   "source": [
    "standings = []\n",
    "for idx, team in enumerate(league.standings()):\n",
    "    standing = {}\n",
    "    standing[\"standing\"] = team.standing\n",
    "    standing[\"team_name\"] = team.team_name\n",
    "    standing[\"wins\"] = team.wins\n",
    "    standing[\"losses\"] = team.losses\n",
    "    standing[\"ties\"] = team.ties\n",
    "    standing[\"logo_url\"] = team.logo_url\n",
    "    standing[\"playoff_pct\"] = team.playoff_pct\n",
    "    standing[\"points_for\"] = team.points_for\n",
    "    standing[\"points_against\"] = team.points_against\n",
    "    standings.append(standing)\n",
    "\n",
    "standings = pd.DataFrame(standings)\n",
    "standings[\"standing\"] = standings[\"standing\"].astype(int)\n",
    "standings.sort_values(by=\"standing\", ascending=True, inplace=True)\n",
    "standings[\"standing\"] = standings[\"standing\"].astype(str)\n",
    "standings = standings.to_dict(orient=\"records\")"
   ]
  },
  {
   "cell_type": "markdown",
   "id": "ccf2d19d",
   "metadata": {},
   "source": [
    "# Power Rankings"
   ]
  },
  {
   "cell_type": "code",
   "execution_count": 27,
   "id": "e4dd9a40",
   "metadata": {},
   "outputs": [],
   "source": [
    "power_rankings = []\n",
    "for score, team in league.power_rankings():\n",
    "    power_ranking = {}\n",
    "    power_ranking[\"power_ranking\"] = score\n",
    "    power_ranking[\"team_name\"] = team.team_name\n",
    "    power_ranking[\"wins\"] = team.wins\n",
    "    power_ranking[\"losses\"] = team.losses\n",
    "    power_ranking[\"ties\"] = team.ties\n",
    "    power_ranking[\"logo_url\"] = team.logo_url\n",
    "    power_ranking[\"playoff_pct\"] = team.playoff_pct\n",
    "    power_ranking[\"points_for\"] = team.points_for\n",
    "    power_ranking[\"points_against\"] = team.points_against\n",
    "    power_rankings.append(power_ranking)\n",
    "\n",
    "power_rankings = pd.DataFrame(power_rankings)\n",
    "power_rankings[\"power_ranking\"] = power_rankings[\"power_ranking\"].astype(float)\n",
    "power_rankings.sort_values(by=\"power_ranking\", ascending=False, inplace=True)\n",
    "power_rankings[\"power_ranking\"] = power_rankings[\"power_ranking\"].astype(str)\n",
    "power_rankings = power_rankings.to_dict(orient=\"records\")"
   ]
  },
  {
   "cell_type": "code",
   "execution_count": null,
   "id": "29cb127d",
   "metadata": {},
   "outputs": [],
   "source": []
  }
 ],
 "metadata": {
  "kernelspec": {
   "display_name": "Python 3 (ipykernel)",
   "language": "python",
   "name": "python3"
  },
  "language_info": {
   "codemirror_mode": {
    "name": "ipython",
    "version": 3
   },
   "file_extension": ".py",
   "mimetype": "text/x-python",
   "name": "python",
   "nbconvert_exporter": "python",
   "pygments_lexer": "ipython3",
   "version": "3.10.6"
  }
 },
 "nbformat": 4,
 "nbformat_minor": 5
}
